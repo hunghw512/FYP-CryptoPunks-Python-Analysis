{
 "cells": [
  {
   "cell_type": "code",
   "execution_count": 44,
   "metadata": {},
   "outputs": [],
   "source": [
    "import pandas as pd\n",
    "import numpy as np\n",
    "from p1_data_cleaning import op_clean"
   ]
  },
  {
   "cell_type": "code",
   "execution_count": 45,
   "metadata": {},
   "outputs": [
    {
     "name": "stdout",
     "output_type": "stream",
     "text": [
      "3907\n",
      "4437\n",
      "0.8805499211178724\n"
     ]
    }
   ],
   "source": [
    "#positive/negative %\n",
    "xf = pd.read_csv('__filtered_result__\\\\normalies_df_last_two_eth_pc_change.csv')\n",
    "xv = xf.copy()\n",
    "xf = xf[xf['eth_pc_change'] > 0].values.tolist()\n",
    "print(len(xf))\n",
    "xv = xv['eth_pc_change'].values.tolist()\n",
    "print(len(xv))\n",
    "print(len(xf)/len(xv))"
   ]
  },
  {
   "cell_type": "code",
   "execution_count": 46,
   "metadata": {},
   "outputs": [
    {
     "data": {
      "text/html": [
       "<div>\n",
       "<style scoped>\n",
       "    .dataframe tbody tr th:only-of-type {\n",
       "        vertical-align: middle;\n",
       "    }\n",
       "\n",
       "    .dataframe tbody tr th {\n",
       "        vertical-align: top;\n",
       "    }\n",
       "\n",
       "    .dataframe thead th {\n",
       "        text-align: right;\n",
       "    }\n",
       "</style>\n",
       "<table border=\"1\" class=\"dataframe\">\n",
       "  <thead>\n",
       "    <tr style=\"text-align: right;\">\n",
       "      <th></th>\n",
       "      <th>punk_id</th>\n",
       "      <th>eth_pc_change</th>\n",
       "      <th>txn_num</th>\n",
       "    </tr>\n",
       "  </thead>\n",
       "  <tbody>\n",
       "    <tr>\n",
       "      <th>0</th>\n",
       "      <td>0.0</td>\n",
       "      <td>14.625000</td>\n",
       "      <td>3</td>\n",
       "    </tr>\n",
       "    <tr>\n",
       "      <th>1</th>\n",
       "      <td>627.0</td>\n",
       "      <td>51.000000</td>\n",
       "      <td>4</td>\n",
       "    </tr>\n",
       "    <tr>\n",
       "      <th>2</th>\n",
       "      <td>861.0</td>\n",
       "      <td>44.333333</td>\n",
       "      <td>5</td>\n",
       "    </tr>\n",
       "    <tr>\n",
       "      <th>3</th>\n",
       "      <td>992.0</td>\n",
       "      <td>44.000000</td>\n",
       "      <td>2</td>\n",
       "    </tr>\n",
       "    <tr>\n",
       "      <th>4</th>\n",
       "      <td>1027.0</td>\n",
       "      <td>18.332667</td>\n",
       "      <td>3</td>\n",
       "    </tr>\n",
       "    <tr>\n",
       "      <th>...</th>\n",
       "      <td>...</td>\n",
       "      <td>...</td>\n",
       "      <td>...</td>\n",
       "    </tr>\n",
       "    <tr>\n",
       "      <th>217</th>\n",
       "      <td>9886.0</td>\n",
       "      <td>24.000000</td>\n",
       "      <td>2</td>\n",
       "    </tr>\n",
       "    <tr>\n",
       "      <th>218</th>\n",
       "      <td>9895.0</td>\n",
       "      <td>16.931034</td>\n",
       "      <td>3</td>\n",
       "    </tr>\n",
       "    <tr>\n",
       "      <th>219</th>\n",
       "      <td>9916.0</td>\n",
       "      <td>34.789474</td>\n",
       "      <td>2</td>\n",
       "    </tr>\n",
       "    <tr>\n",
       "      <th>220</th>\n",
       "      <td>9931.0</td>\n",
       "      <td>54.555556</td>\n",
       "      <td>3</td>\n",
       "    </tr>\n",
       "    <tr>\n",
       "      <th>221</th>\n",
       "      <td>9938.0</td>\n",
       "      <td>47.148148</td>\n",
       "      <td>3</td>\n",
       "    </tr>\n",
       "  </tbody>\n",
       "</table>\n",
       "<p>222 rows × 3 columns</p>\n",
       "</div>"
      ],
      "text/plain": [
       "     punk_id  eth_pc_change  txn_num\n",
       "0        0.0      14.625000        3\n",
       "1      627.0      51.000000        4\n",
       "2      861.0      44.333333        5\n",
       "3      992.0      44.000000        2\n",
       "4     1027.0      18.332667        3\n",
       "..       ...            ...      ...\n",
       "217   9886.0      24.000000        2\n",
       "218   9895.0      16.931034        3\n",
       "219   9916.0      34.789474        2\n",
       "220   9931.0      54.555556        3\n",
       "221   9938.0      47.148148        3\n",
       "\n",
       "[222 rows x 3 columns]"
      ]
     },
     "execution_count": 46,
     "metadata": {},
     "output_type": "execute_result"
    }
   ],
   "source": [
    "#monalisa level\n",
    "ab = pd.read_csv('__filtered_result__\\\\normalies_df_last_two_eth_pc_change.csv')\n",
    "txn_count = pd.read_csv('mp_txn_frequency_in_each_punk.csv')\n",
    "\n",
    "def run_remove_anomalies(file, column_num, percentile):\n",
    "    p1_threshold = np.percentile(file.loc[:,column_num], 100-percentile)  #2 stdev (5%) for anomalies\n",
    "    top_x = file[(file.loc[:,column_num] > p1_threshold)]\n",
    "    return top_x\n",
    "\n",
    "top_10_percentile = run_remove_anomalies(ab, 'eth_pc_change', 10)\n",
    "monalisa = pd.merge(top_10_percentile, txn_count, on='punk_id')\n",
    "monalisa"
   ]
  },
  {
   "cell_type": "code",
   "execution_count": 47,
   "metadata": {},
   "outputs": [
    {
     "name": "stdout",
     "output_type": "stream",
     "text": [
      "\n",
      "txn frequencies\n",
      "    txn_num  count       pct\n",
      "1         2   1297  0.324818\n",
      "2         3    980  0.245430\n",
      "3         4    683  0.171049\n",
      "4         5    421  0.105435\n",
      "5         6    257  0.064363\n",
      "6         7    159  0.039820\n",
      "7         8    105  0.026296\n",
      "8         9     47  0.011771\n",
      "9        10     19  0.004758\n",
      "10       11     10  0.002504\n",
      "11       12      5  0.001252\n",
      "12       13      6  0.001503\n",
      "13       14      3  0.000751\n",
      "14       16      1  0.000250 \n",
      "\n",
      "\n",
      "txn frequency table\n",
      "    txn_num  count  eth_pc_change       pct\n",
      "0        2    118            118  0.531532\n",
      "1        3     57             57  0.256757\n",
      "2        4     30             30  0.135135\n",
      "3        5     11             11  0.049550\n",
      "4        6      3              3  0.013514\n",
      "5        7      1              1  0.004505\n",
      "6        8      1              1  0.004505\n",
      "7        9      1              1  0.004505\n"
     ]
    }
   ],
   "source": [
    "# list out all txn frequencies\n",
    "#df_list = sorted(monalisa['txn_num'].unique().tolist())\n",
    "df_list = txn_count.groupby('txn_num').count().reset_index()\n",
    "df_list = df_list[df_list['txn_num'] != 1]\n",
    "df_list['pct']= df_list['punk_id']/df_list['punk_id'].sum()            #cal percentage\n",
    "df_list.rename({'punk_id': 'count'}, axis=1, inplace=True)\n",
    "print(\"\\ntxn frequencies\")\n",
    "print(df_list, \"\\n\")\n",
    "\n",
    "# txn frequencies count\n",
    "df2 = monalisa.groupby('txn_num').count().reset_index()                      \n",
    "df2['pct']= df2['punk_id']/df2['punk_id'].sum()            #cal percentage\n",
    "df2.rename({'punk_id': 'count'}, axis=1, inplace=True)\n",
    "print(\"\\ntxn frequency table\\n\", df2)"
   ]
  }
 ],
 "metadata": {
  "interpreter": {
   "hash": "411a6aab36acb5d78d070f2b94b878b638dc2a67f6b6947c682fe5fa2c2e76dc"
  },
  "kernelspec": {
   "display_name": "Python 3.9.9 64-bit",
   "language": "python",
   "name": "python3"
  },
  "language_info": {
   "codemirror_mode": {
    "name": "ipython",
    "version": 3
   },
   "file_extension": ".py",
   "mimetype": "text/x-python",
   "name": "python",
   "nbconvert_exporter": "python",
   "pygments_lexer": "ipython3",
   "version": "3.9.9"
  },
  "orig_nbformat": 4
 },
 "nbformat": 4,
 "nbformat_minor": 2
}
